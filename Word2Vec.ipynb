{
  "nbformat": 4,
  "nbformat_minor": 0,
  "metadata": {
    "colab": {
      "name": "Word2Vec",
      "provenance": [],
      "collapsed_sections": [],
      "authorship_tag": "ABX9TyMBXUJs6YKXOb557a8pejqj",
      "include_colab_link": true
    },
    "kernelspec": {
      "name": "python3",
      "display_name": "Python 3"
    }
  },
  "cells": [
    {
      "cell_type": "markdown",
      "metadata": {
        "id": "view-in-github",
        "colab_type": "text"
      },
      "source": [
        "<a href=\"https://colab.research.google.com/github/Midhilesh4890/Natural-Language-processing/blob/main/Word2Vec.ipynb\" target=\"_parent\"><img src=\"https://colab.research.google.com/assets/colab-badge.svg\" alt=\"Open In Colab\"/></a>"
      ]
    },
    {
      "cell_type": "code",
      "metadata": {
        "id": "tZrMGSvOumpJ"
      },
      "source": [
        "import numpy as np\r\n",
        "from sklearn.manifold import TSNE\r\n",
        "import matplotlib.pyplot as plt"
      ],
      "execution_count": 1,
      "outputs": []
    },
    {
      "cell_type": "code",
      "metadata": {
        "colab": {
          "base_uri": "https://localhost:8080/"
        },
        "id": "EPYvRG5Su40O",
        "outputId": "91d8fa44-870c-4c37-9661-8d657f5b1642"
      },
      "source": [
        "import gensim.downloader as gs\r\n",
        "word2vec = gs.load('word2vec-google-news-300')"
      ],
      "execution_count": 2,
      "outputs": [
        {
          "output_type": "stream",
          "text": [
            "[==================================================] 100.0% 1662.8/1662.8MB downloaded\n"
          ],
          "name": "stdout"
        }
      ]
    },
    {
      "cell_type": "code",
      "metadata": {
        "colab": {
          "base_uri": "https://localhost:8080/"
        },
        "id": "YY2FNvQRvQZL",
        "outputId": "40c6de0d-c5b0-47d5-bb4e-a19258fbd184"
      },
      "source": [
        "len(word2vec.vocab)"
      ],
      "execution_count": 12,
      "outputs": [
        {
          "output_type": "execute_result",
          "data": {
            "text/plain": [
              "3000000"
            ]
          },
          "metadata": {
            "tags": []
          },
          "execution_count": 12
        }
      ]
    },
    {
      "cell_type": "code",
      "metadata": {
        "colab": {
          "base_uri": "https://localhost:8080/"
        },
        "id": "b-So_3IXwutR",
        "outputId": "10826e78-80df-4282-b320-62fe81ad18bc"
      },
      "source": [
        "word2vec.similar_by_word('tiger',topn=5)"
      ],
      "execution_count": 17,
      "outputs": [
        {
          "output_type": "execute_result",
          "data": {
            "text/plain": [
              "[('tigers', 0.8028031587600708),\n",
              " ('elephant', 0.6681442856788635),\n",
              " ('rhino', 0.6406095027923584),\n",
              " ('elephants', 0.6400991678237915),\n",
              " ('panther', 0.6312947273254395)]"
            ]
          },
          "metadata": {
            "tags": []
          },
          "execution_count": 17
        }
      ]
    },
    {
      "cell_type": "code",
      "metadata": {
        "colab": {
          "base_uri": "https://localhost:8080/"
        },
        "id": "56z5kPDTxYza",
        "outputId": "608cd18f-7cf0-4dda-feee-ed513b62110e"
      },
      "source": [
        "word2vec.most_similar('tiger',topn=5)"
      ],
      "execution_count": 19,
      "outputs": [
        {
          "output_type": "execute_result",
          "data": {
            "text/plain": [
              "[('tigers', 0.8028031587600708),\n",
              " ('elephant', 0.6681442856788635),\n",
              " ('rhino', 0.6406095027923584),\n",
              " ('elephants', 0.6400991678237915),\n",
              " ('panther', 0.6312947273254395)]"
            ]
          },
          "metadata": {
            "tags": []
          },
          "execution_count": 19
        }
      ]
    },
    {
      "cell_type": "code",
      "metadata": {
        "colab": {
          "base_uri": "https://localhost:8080/",
          "height": 483
        },
        "id": "XWEdp5w0xxjT",
        "outputId": "ee900e38-536e-472f-f91f-44fa449a5c42"
      },
      "source": [
        "vocab = [\"boy\", \"girl\", \"man\", \"woman\", \"king\", \"queen\", \"banana\", \"apple\", \"mango\", \"fruit\", \"coconut\", \"orange\",'tiger','lion','human']\r\n",
        "\r\n",
        "def tsne_plot(model):\r\n",
        "    labels = []\r\n",
        "    wordvecs = []\r\n",
        "\r\n",
        "    for word in vocab:\r\n",
        "        wordvecs.append(model[word])\r\n",
        "        labels.append(word)\r\n",
        "    \r\n",
        "    tsne_model = TSNE(perplexity=3, n_components=2, init='pca', random_state=42)\r\n",
        "    coordinates = tsne_model.fit_transform(wordvecs)\r\n",
        "\r\n",
        "    x = []\r\n",
        "    y = []\r\n",
        "    for value in coordinates:\r\n",
        "        x.append(value[0])\r\n",
        "        y.append(value[1])\r\n",
        "        \r\n",
        "    plt.figure(figsize=(8,8)) \r\n",
        "    for i in range(len(x)):\r\n",
        "        plt.scatter(x[i],y[i])\r\n",
        "        plt.annotate(labels[i],\r\n",
        "                     xy=(x[i], y[i]),\r\n",
        "                     xytext=(2, 2),\r\n",
        "                     textcoords='offset points',\r\n",
        "                     ha='right',\r\n",
        "                     va='bottom')\r\n",
        "    plt.show()\r\n",
        "\r\n",
        "tsne_plot(word2vec)"
      ],
      "execution_count": 22,
      "outputs": [
        {
          "output_type": "display_data",
          "data": {
            "image/png": "[encoded data removed]",
            "text/plain": [
              "<Figure size 576x576 with 1 Axes>"
            ]
          },
          "metadata": {
            "tags": [],
            "needs_background": "light"
          }
        }
      ]
    },
    {
      "cell_type": "code",
      "metadata": {
        "id": "Kjmp7bqWx6Jk"
      },
      "source": [
        ""
      ],
      "execution_count": null,
      "outputs": []
    }
  ]
}